{
 "cells": [
  {
   "cell_type": "code",
   "execution_count": 4,
   "id": "a59d9942",
   "metadata": {},
   "outputs": [
    {
     "name": "stdout",
     "output_type": "stream",
     "text": [
      "Collecting bayespy\n",
      "  Downloading bayespy-0.5.26.tar.gz (401 kB)\n",
      "                                              0.0/401.7 kB ? eta -:--:--\n",
      "     --------                                92.2/401.7 kB 2.6 MB/s eta 0:00:01\n",
      "     ----------------------                 235.5/401.7 kB 2.9 MB/s eta 0:00:01\n",
      "     -------------------------------------- 401.7/401.7 kB 3.6 MB/s eta 0:00:00\n",
      "  Preparing metadata (setup.py): started\n",
      "  Preparing metadata (setup.py): finished with status 'done'\n",
      "Requirement already satisfied: numpy>=1.10.0 in c:\\users\\rohan\\anaconda3\\lib\\site-packages (from bayespy) (1.22.4)\n",
      "Requirement already satisfied: scipy>=0.13.0 in c:\\users\\rohan\\anaconda3\\lib\\site-packages (from bayespy) (1.10.1)\n",
      "Requirement already satisfied: h5py in c:\\users\\rohan\\anaconda3\\lib\\site-packages (from bayespy) (3.8.0)\n",
      "Building wheels for collected packages: bayespy\n",
      "  Building wheel for bayespy (setup.py): started\n",
      "  Building wheel for bayespy (setup.py): finished with status 'done'\n",
      "  Created wheel for bayespy: filename=bayespy-0.5.26-py3-none-any.whl size=377662 sha256=12216a8c43fc48c7da3c530004f51a99f5364840270d4451c62826f4a584b11f\n",
      "  Stored in directory: c:\\users\\rohan\\appdata\\local\\pip\\cache\\wheels\\bf\\41\\40\\f360d77b221e86cf6cd5a2d49deef301a1242a4a7a1f9cd8c6\n",
      "Successfully built bayespy\n",
      "Installing collected packages: bayespy\n",
      "Successfully installed bayespy-0.5.26\n",
      "Note: you may need to restart the kernel to use updated packages.\n"
     ]
    },
    {
     "name": "stderr",
     "output_type": "stream",
     "text": [
      "WARNING: Ignoring invalid distribution -atplotlib (c:\\users\\rohan\\anaconda3\\lib\\site-packages)\n",
      "WARNING: Ignoring invalid distribution -atplotlib (c:\\users\\rohan\\anaconda3\\lib\\site-packages)\n"
     ]
    }
   ],
   "source": [
    "pip install bayespy"
   ]
  },
  {
   "cell_type": "code",
   "execution_count": 7,
   "id": "48546f3c",
   "metadata": {},
   "outputs": [
    {
     "ename": "ValueError",
     "evalue": "The mixed distribution does not have a plates axis for the cluster plate axis",
     "output_type": "error",
     "traceback": [
      "\u001b[1;31m---------------------------------------------------------------------------\u001b[0m",
      "\u001b[1;31mValueError\u001b[0m                                Traceback (most recent call last)",
      "Cell \u001b[1;32mIn[7], line 14\u001b[0m\n\u001b[0;32m     12\u001b[0m lung \u001b[38;5;241m=\u001b[39m Mixture(smoking, Categorical, [[\u001b[38;5;241m0.98\u001b[39m, \u001b[38;5;241m0.02\u001b[39m], [\u001b[38;5;241m0.25\u001b[39m, \u001b[38;5;241m0.75\u001b[39m]])\n\u001b[0;32m     13\u001b[0m bronchitis \u001b[38;5;241m=\u001b[39m Mixture(smoking, Categorical, [[\u001b[38;5;241m0.97\u001b[39m, \u001b[38;5;241m0.03\u001b[39m], [\u001b[38;5;241m0.08\u001b[39m, \u001b[38;5;241m0.92\u001b[39m]])\n\u001b[1;32m---> 14\u001b[0m xray \u001b[38;5;241m=\u001b[39m \u001b[43mMixture\u001b[49m\u001b[43m(\u001b[49m\u001b[43mtuberculosis\u001b[49m\u001b[43m,\u001b[49m\u001b[43m \u001b[49m\u001b[43mMixture\u001b[49m\u001b[43m,\u001b[49m\u001b[43m \u001b[49m\u001b[43mlung\u001b[49m\u001b[43m,\u001b[49m\u001b[43m \u001b[49m\u001b[43mCategorical\u001b[49m\u001b[43m,\u001b[49m\n\u001b[0;32m     15\u001b[0m \u001b[43m               \u001b[49m\u001b[43m[\u001b[49m\u001b[43m[\u001b[49m\u001b[38;5;241;43m0.96\u001b[39;49m\u001b[43m,\u001b[49m\u001b[43m \u001b[49m\u001b[38;5;241;43m0.04\u001b[39;49m\u001b[43m]\u001b[49m\u001b[43m,\u001b[49m\u001b[43m \u001b[49m\u001b[43m[\u001b[49m\u001b[38;5;241;43m0.115\u001b[39;49m\u001b[43m,\u001b[49m\u001b[43m \u001b[49m\u001b[38;5;241;43m0.885\u001b[39;49m\u001b[43m]\u001b[49m\u001b[43m]\u001b[49m\u001b[43m)\u001b[49m\n\u001b[0;32m     17\u001b[0m dyspnea \u001b[38;5;241m=\u001b[39m Mixture(bronchitis, Mixture, tuberculosis, Mixture, lung, Categorical,\n\u001b[0;32m     18\u001b[0m                   [[\u001b[38;5;241m0.6\u001b[39m, \u001b[38;5;241m0.4\u001b[39m], [\u001b[38;5;241m0.18\u001b[39m, \u001b[38;5;241m0.82\u001b[39m]],\n\u001b[0;32m     19\u001b[0m                   [[\u001b[38;5;241m0.11\u001b[39m, \u001b[38;5;241m0.89\u001b[39m], [\u001b[38;5;241m0.04\u001b[39m, \u001b[38;5;241m0.96\u001b[39m]])\n\u001b[0;32m     21\u001b[0m tuberculosis\u001b[38;5;241m.\u001b[39mobserve(TRUE)\n",
      "File \u001b[1;32m~\\anaconda3\\lib\\site-packages\\bayespy\\inference\\vmp\\nodes\\mixture.py:431\u001b[0m, in \u001b[0;36mMixture.__init__\u001b[1;34m(self, z, node_class, cluster_plate, *params, **kwargs)\u001b[0m\n\u001b[0;32m    429\u001b[0m \u001b[38;5;28;01mdef\u001b[39;00m \u001b[38;5;21m__init__\u001b[39m(\u001b[38;5;28mself\u001b[39m, z, node_class, \u001b[38;5;241m*\u001b[39mparams, cluster_plate\u001b[38;5;241m=\u001b[39m\u001b[38;5;241m-\u001b[39m\u001b[38;5;241m1\u001b[39m, \u001b[38;5;241m*\u001b[39m\u001b[38;5;241m*\u001b[39mkwargs):\n\u001b[0;32m    430\u001b[0m     \u001b[38;5;28mself\u001b[39m\u001b[38;5;241m.\u001b[39mcluster_plate \u001b[38;5;241m=\u001b[39m cluster_plate\n\u001b[1;32m--> 431\u001b[0m     \u001b[38;5;28msuper\u001b[39m()\u001b[38;5;241m.\u001b[39m\u001b[38;5;21m__init__\u001b[39m(z, node_class, \u001b[38;5;241m*\u001b[39mparams, cluster_plate\u001b[38;5;241m=\u001b[39mcluster_plate,\n\u001b[0;32m    432\u001b[0m                      \u001b[38;5;241m*\u001b[39m\u001b[38;5;241m*\u001b[39mkwargs)\n",
      "File \u001b[1;32m~\\anaconda3\\lib\\site-packages\\bayespy\\inference\\vmp\\nodes\\expfamily.py:82\u001b[0m, in \u001b[0;36museconstructor.<locals>.constructor_decorator\u001b[1;34m(self, *args, **kwargs)\u001b[0m\n\u001b[0;32m     75\u001b[0m \u001b[38;5;28;01mdef\u001b[39;00m \u001b[38;5;21mconstructor_decorator\u001b[39m(\u001b[38;5;28mself\u001b[39m, \u001b[38;5;241m*\u001b[39margs, \u001b[38;5;241m*\u001b[39m\u001b[38;5;241m*\u001b[39mkwargs):\n\u001b[0;32m     76\u001b[0m     \u001b[38;5;28;01mif\u001b[39;00m (\u001b[38;5;28mself\u001b[39m\u001b[38;5;241m.\u001b[39mdims \u001b[38;5;129;01mis\u001b[39;00m \u001b[38;5;28;01mNone\u001b[39;00m \u001b[38;5;129;01mor\u001b[39;00m\n\u001b[0;32m     77\u001b[0m         \u001b[38;5;28mself\u001b[39m\u001b[38;5;241m.\u001b[39m_distribution \u001b[38;5;129;01mis\u001b[39;00m \u001b[38;5;28;01mNone\u001b[39;00m \u001b[38;5;129;01mor\u001b[39;00m\n\u001b[0;32m     78\u001b[0m         \u001b[38;5;28mself\u001b[39m\u001b[38;5;241m.\u001b[39m_moments \u001b[38;5;129;01mis\u001b[39;00m \u001b[38;5;28;01mNone\u001b[39;00m \u001b[38;5;129;01mor\u001b[39;00m\n\u001b[0;32m     79\u001b[0m         \u001b[38;5;28mself\u001b[39m\u001b[38;5;241m.\u001b[39m_parent_moments \u001b[38;5;129;01mis\u001b[39;00m \u001b[38;5;28;01mNone\u001b[39;00m):\n\u001b[0;32m     81\u001b[0m         (args, kwargs, dims, plates, dist, stats, pstats) \u001b[38;5;241m=\u001b[39m \\\n\u001b[1;32m---> 82\u001b[0m           \u001b[38;5;28mself\u001b[39m\u001b[38;5;241m.\u001b[39m_constructor(\u001b[38;5;241m*\u001b[39margs, \u001b[38;5;241m*\u001b[39m\u001b[38;5;241m*\u001b[39mkwargs)\n\u001b[0;32m     84\u001b[0m         \u001b[38;5;28mself\u001b[39m\u001b[38;5;241m.\u001b[39mdims \u001b[38;5;241m=\u001b[39m dims\n\u001b[0;32m     85\u001b[0m         \u001b[38;5;28mself\u001b[39m\u001b[38;5;241m.\u001b[39m_distribution \u001b[38;5;241m=\u001b[39m dist\n",
      "File \u001b[1;32m~\\anaconda3\\lib\\site-packages\\bayespy\\inference\\vmp\\nodes\\mixture.py:449\u001b[0m, in \u001b[0;36mMixture._constructor\u001b[1;34m(cls, z, node_class, cluster_plate, *args, **kwargs)\u001b[0m\n\u001b[0;32m    447\u001b[0m \u001b[38;5;66;03m# Check that at least one of the parents has the cluster plate axis\u001b[39;00m\n\u001b[0;32m    448\u001b[0m \u001b[38;5;28;01mif\u001b[39;00m \u001b[38;5;28mlen\u001b[39m(mixture_plates) \u001b[38;5;241m<\u001b[39m \u001b[38;5;28mabs\u001b[39m(cluster_plate):\n\u001b[1;32m--> 449\u001b[0m     \u001b[38;5;28;01mraise\u001b[39;00m \u001b[38;5;167;01mValueError\u001b[39;00m(\u001b[38;5;124m\"\u001b[39m\u001b[38;5;124mThe mixed distribution does not have a plates \u001b[39m\u001b[38;5;124m\"\u001b[39m\n\u001b[0;32m    450\u001b[0m                      \u001b[38;5;124m\"\u001b[39m\u001b[38;5;124maxis for the cluster plate axis\u001b[39m\u001b[38;5;124m\"\u001b[39m)\n\u001b[0;32m    452\u001b[0m \u001b[38;5;66;03m# Resolve the number of clusters\u001b[39;00m\n\u001b[0;32m    453\u001b[0m mixture_plates \u001b[38;5;241m=\u001b[39m \u001b[38;5;28mlist\u001b[39m(mixture_plates)\n",
      "\u001b[1;31mValueError\u001b[0m: The mixed distribution does not have a plates axis for the cluster plate axis"
     ]
    }
   ],
   "source": [
    "from bayespy.nodes import Categorical, Mixture\n",
    "from bayespy.inference import VB\n",
    "from bayespy.utils import random\n",
    "import numpy as np\n",
    "\n",
    "FALSE = 0\n",
    "TRUE = 1\n",
    "\n",
    "asia = Categorical([0.5, 0.5])\n",
    "tuberculosis = Mixture(asia, Categorical, [[0.99, 0.01], [0.8, 0.2]])\n",
    "smoking = Categorical([0.5, 0.5])\n",
    "lung = Mixture(smoking, Categorical, [[0.98, 0.02], [0.25, 0.75]])\n",
    "bronchitis = Mixture(smoking, Categorical, [[0.97, 0.03], [0.08, 0.92]])\n",
    "xray = Mixture(tuberculosis, Mixture, lung, Categorical,\n",
    "               [[0.96, 0.04], [0.115, 0.885]])\n",
    "\n",
    "dyspnea = Mixture(bronchitis, Mixture, tuberculosis, Mixture, lung, Categorical,\n",
    "                  [[0.6, 0.4], [0.18, 0.82]],\n",
    "                  [[0.11, 0.89], [0.04, 0.96]])\n",
    "\n",
    "tuberculosis.observe(TRUE)\n",
    "smoking.observe(FALSE)\n",
    "bronchitis.observe(TRUE)\n",
    "\n",
    "Q = VB(dyspnea, xray, bronchitis, lung, smoking, tuberculosis)\n",
    "Q.update(repeat=100)\n",
    "\n",
    "print(\"P(asia):\", asia.get_moments()[0][TRUE])\n",
    "print(\"P(tuberculosis):\", tuberculosis.get_moments()[0][TRUE])\n",
    "print(\"P(smoking):\", smoking.get_moments()[0][TRUE])\n",
    "print(\"P(lung):\", lung.get_moments()[0][TRUE])\n",
    "print(\"P(bronchitis):\", bronchitis.get_moments()[0][TRUE])\n",
    "print(\"P(xray):\", xray.get_moments()[0][TRUE])\n",
    "print(\"P(dyspnea):\", dyspnea.get_moments()[0][TRUE])\n"
   ]
  },
  {
   "cell_type": "code",
   "execution_count": null,
   "id": "7b0ffca2",
   "metadata": {},
   "outputs": [],
   "source": []
  }
 ],
 "metadata": {
  "kernelspec": {
   "display_name": "Python 3 (ipykernel)",
   "language": "python",
   "name": "python3"
  },
  "language_info": {
   "codemirror_mode": {
    "name": "ipython",
    "version": 3
   },
   "file_extension": ".py",
   "mimetype": "text/x-python",
   "name": "python",
   "nbconvert_exporter": "python",
   "pygments_lexer": "ipython3",
   "version": "3.9.16"
  }
 },
 "nbformat": 4,
 "nbformat_minor": 5
}
